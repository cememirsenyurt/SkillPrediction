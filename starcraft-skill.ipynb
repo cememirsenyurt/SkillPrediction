{
 "cells": [
  {
   "cell_type": "markdown",
   "metadata": {},
   "source": [
    "# Skill estimation using graphical models"
   ]
  },
  {
   "cell_type": "code",
   "execution_count": 12,
   "metadata": {},
   "outputs": [],
   "source": [
    "import numpy as np \n",
    "import matplotlib.pyplot as plt\n",
    "import networkx as nx\n",
    "import pyGM as gm"
   ]
  },
  {
   "cell_type": "markdown",
   "metadata": {},
   "source": [
    "### Load the data"
   ]
  },
  {
   "cell_type": "code",
   "execution_count": 13,
   "metadata": {},
   "outputs": [],
   "source": [
    "def load_data(file_name, pKeep, nEdge, nKeep):\n",
    "    # Load training data and reduce (subsample) if desired\n",
    "\n",
    "    # Read thru file to get numeric ids for each player \n",
    "    with open(file_name) as f: lines = f.read().split('\\n')\n",
    "\n",
    "    p = 0; playerid = {};\n",
    "    for i in range(len(lines)):\n",
    "      csv = lines[i].split(',');\n",
    "      if len(csv) != 10: continue;   # parse error or blank line\n",
    "      player0,player1 = csv[1],csv[4];\n",
    "      if player0 not in playerid: playerid[player0]=p; p+=1;\n",
    "      if player1 not in playerid: playerid[player1]=p; p+=1;\n",
    "\n",
    "    nplayers = len(playerid)\n",
    "    playername = ['']*nplayers\n",
    "    for player in playerid: playername[ playerid[player] ]=player;  # id to name lookup\n",
    "\n",
    "    nplays, nwins = np.zeros( (nplayers,nplayers) ), np.zeros( (nplayers,nplayers) );\n",
    "    for i in range(len(lines)):\n",
    "      csv = lines[i].split(',');\n",
    "      if len(csv) != 10: continue;   # parse error or blank line\n",
    "      a,b = playerid[csv[1]],playerid[csv[4]];\n",
    "      aw,bw = csv[2]=='[winner]',csv[5]=='[winner]';\n",
    "      if (np.random.rand() < pKeep):\n",
    "        if (nplays[a,b] < nKeep) and ( ((nplays[a,:]>0).sum() < nEdge) or ((nplays[:,b]>0).sum() < nEdge) ):\n",
    "          nplays[a,b] += 1; nplays[b,a]+=1; nwins[a,b] += aw; nwins[b,a] += bw;\n",
    "        \n",
    "    print(\"Fraction of edges to consider: \", pKeep)\n",
    "    print(\"Try to keep nEdge_val opponents per player\", nEdge)\n",
    "    print(\"Keep at most nKeep_val games per opponent pairs\", nKeep)\n",
    "    print(\"\")\n",
    "    \n",
    "    return playername, nplayers, nplays, nwins"
   ]
  },
  {
   "cell_type": "markdown",
   "metadata": {},
   "source": [
    "### A simple list of games & outcomes"
   ]
  },
  {
   "cell_type": "code",
   "execution_count": 14,
   "metadata": {},
   "outputs": [],
   "source": [
    "def get_games(nplayers, nplays, nwins):\n",
    "    games = []\n",
    "\n",
    "    for i in range(nplayers):\n",
    "        for j in range(nplayers):\n",
    "            if i == j:\n",
    "                continue\n",
    "            if nplays[i, j] > 0:\n",
    "                for count in range(int(nwins.item(i, j))):\n",
    "                    game = (i, j, 1)\n",
    "                    games.append(game)\n",
    "    return games"
   ]
  },
  {
   "cell_type": "markdown",
   "metadata": {},
   "source": [
    "### Win probability and graphical model"
   ]
  },
  {
   "cell_type": "code",
   "execution_count": 15,
   "metadata": {},
   "outputs": [],
   "source": [
    "def get_factors(games, nplayers):\n",
    "    nlevels = 10   # let's say 10 discrete skill levels\n",
    "    scale = .3     # this scales how skill difference translates to win probability\n",
    "\n",
    "    # Make variables for each player; value = skill level\n",
    "    X = [None]*nplayers\n",
    "    for i in range(nplayers):\n",
    "        X[i] = gm.Var(i, nlevels)   \n",
    "\n",
    "    # Information from each game: what does Pi winning over Pj tell us?\n",
    "    #    Win probability  Pr[win | Xi-Xj]  depends on skill difference of players\n",
    "    Pwin = np.zeros( (nlevels,nlevels) )\n",
    "    for i in range(nlevels):\n",
    "        for j in range(nlevels):\n",
    "            diff = i-j                   # find the advantage of Pi over Pj, then \n",
    "            Pwin[i,j] = (1./(1+np.exp(-scale*diff)))  # Pwin = logistic of advantage\n",
    "\n",
    "    # before any games, uniform belief over skill levels for each player:\n",
    "    factors = [ gm.Factor([X[i]],1./nlevels) for i in range(nplayers) ]\n",
    "\n",
    "    # Now add the information from each game:\n",
    "    for g in games:\n",
    "        P1,P2,win = g[0],g[1],g[2]\n",
    "        if P1>P2: P1,P2,win=P2,P1,-win  # (need to make player IDs sorted...)\n",
    "        factors.append(gm.Factor([X[P1],X[P2]], Pwin if win>0 else 1-Pwin) )\n",
    "        \n",
    "    return factors, X, Pwin"
   ]
  },
  {
   "cell_type": "markdown",
   "metadata": {},
   "source": [
    "### Perform inference to estimate the skill level"
   ]
  },
  {
   "cell_type": "code",
   "execution_count": 16,
   "metadata": {},
   "outputs": [],
   "source": [
    "def model_inference(model):\n",
    "    if model.nvar < 0:       # for very small models, we can do brute force inference:\n",
    "        jt = model.joint()\n",
    "        jt /= jt.sum()       # normalize the distribution and marginalize the table\n",
    "        bel = [jt.marginal([i]) for i in range(nplayers)] \n",
    "    else:                    # otherwise we need to use some approximate inference:\n",
    "        from pyGM.messagepass import LBP, NMF\n",
    "        lnZ,bel = LBP(model, maxIter=10, verbose=True)   # loopy BP\n",
    "        print(\"\")\n",
    "        #lnZ,bel = NMF(model, maxIter=10, verbose=True)  # Mean field\n",
    "    return bel, model"
   ]
  },
  {
   "cell_type": "markdown",
   "metadata": {},
   "source": [
    "### Compare the ability of the model"
   ]
  },
  {
   "cell_type": "code",
   "execution_count": 17,
   "metadata": {},
   "outputs": [],
   "source": [
    "def display_ability(bel, X, Pwin, games_val):\n",
    "    correct = 0\n",
    "    total = 0\n",
    "    for game in games_val:\n",
    "        i,j,outcome = game\n",
    "        if i<j:\n",
    "            prob = (bel[i]*bel[j]*gm.Factor([X[i],X[j]],Pwin)).table.sum()\n",
    "            if prob > 0.50:\n",
    "                correct += 1\n",
    "        else:\n",
    "            prob = (bel[i]*bel[j]*gm.Factor([X[i],X[j]],1-Pwin)).table.sum()\n",
    "            if prob > 0.50:\n",
    "                correct += 1\n",
    "        total += 1\n",
    "\n",
    "    print(\"Total games played:\", total)\n",
    "    print(\"Correct estimation:\", correct)\n",
    "    print(\"Wrong   estimation:\", total - correct)\n",
    "    print(\"Fraction          : {}%\".format(correct / total * 100))\n",
    "    print(\"\")\n",
    "    \n",
    "    return total, correct, (correct / total * 100)"
   ]
  },
  {
   "cell_type": "markdown",
   "metadata": {},
   "source": [
    "### Display a game outcome"
   ]
  },
  {
   "cell_type": "code",
   "execution_count": 18,
   "metadata": {},
   "outputs": [],
   "source": [
    "def display_game_prediction(bel, X, Pwin, game, playername):\n",
    "    i,j,_ = game\n",
    "    print(\"Estimated probability {} beats {} next time:\".format(playername[i],playername[j]))\n",
    "    # Expected value (over skill of P0, P1) of Pr[win | P0-P1]\n",
    "    if i<j:\n",
    "        prob = (bel[i]*bel[j]*gm.Factor([X[i],X[j]],Pwin)).table.sum()\n",
    "        print( \"Probability: {}\".format(prob) )\n",
    "    else:\n",
    "        prob = (bel[i]*bel[j]*gm.Factor([X[i],X[j]],1-Pwin)).table.sum()\n",
    "        print( \"Probability: {}\".format(prob) )"
   ]
  },
  {
   "cell_type": "markdown",
   "metadata": {},
   "source": [
    "### Sample run"
   ]
  },
  {
   "cell_type": "code",
   "execution_count": 19,
   "metadata": {},
   "outputs": [
    {
     "name": "stdout",
     "output_type": "stream",
     "text": [
      "Fraction of edges to consider:  1.0\n",
      "Try to keep nEdge_val opponents per player 2\n",
      "Keep at most nKeep_val games per opponent pairs 4\n",
      "\n"
     ]
    }
   ],
   "source": [
    "# Sparsifying parameters (discard some training examples):\n",
    "pKeep = 1.0   # fraction of edges to consider (immed. throw out 1-p edges)\n",
    "nEdge = 2     # try to keep nEdge_val opponents per player (may be more; asymmetric)\n",
    "nKeep = 4     # keep at most nKeep_val games per opponent pairs (play each other multiple times)\n",
    "playername, nplayers, nplays, nwins = load_data('train.csv', pKeep, nEdge, nKeep)"
   ]
  },
  {
   "cell_type": "code",
   "execution_count": 20,
   "metadata": {},
   "outputs": [
    {
     "name": "stdout",
     "output_type": "stream",
     "text": [
      "Iter 1: 1578.7471775993997\n",
      "Iter 2: -1439.1295174504025\n",
      "Iter 3: -1179.7313405651953\n",
      "Iter 4: -1333.2283720150049\n",
      "Iter 5: -1353.9085985106835\n",
      "Iter 6: -1358.9690609058216\n",
      "Iter 7: -1359.913759868731\n",
      "Iter 8: -1360.1245830075493\n",
      "Iter 9: -1360.1647895907342\n",
      "Iter 10: -1360.1727374245975\n",
      "\n"
     ]
    }
   ],
   "source": [
    "games = get_games(nplayers, nplays, nwins)\n",
    "factors, X, Pwin = get_factors(games, nplayers)\n",
    "\n",
    "model = gm.GraphModel(factors)\n",
    "model.makeMinimal()  # merge any duplicate factors (e.g., repeated games)\n",
    "bel, model = model_inference(model)"
   ]
  },
  {
   "cell_type": "code",
   "execution_count": 21,
   "metadata": {},
   "outputs": [
    {
     "name": "stdout",
     "output_type": "stream",
     "text": [
      "Fraction of edges to consider:  1.0\n",
      "Try to keep nEdge_val opponents per player 3\n",
      "Keep at most nKeep_val games per opponent pairs 5\n",
      "\n"
     ]
    }
   ],
   "source": [
    "nlevels = 10   # let's say 10 discrete skill levels\n",
    "scale = .8     # this scales how skill difference translates to win probability\n",
    "# Ranking players by predicted skill\n",
    "mean_skill_estimates = [ bel[i].table.dot(np.arange(nlevels)) for i in range(nplayers)]\n",
    "\n",
    "playername_val, nplayers_val, nplays_val, nwins_val = load_data('valid.csv', pKeep = 1.0, nEdge = 3, nKeep = 5)\n",
    "games_val = get_games(nplayers_val, nplays_val, nwins_val)"
   ]
  },
  {
   "cell_type": "code",
   "execution_count": 22,
   "metadata": {},
   "outputs": [
    {
     "name": "stdout",
     "output_type": "stream",
     "text": [
      "Total games played: 4696\n",
      "Correct estimation: 3839\n",
      "Wrong   estimation: 857\n",
      "Fraction          : 81.7504258943782%\n",
      "\n"
     ]
    }
   ],
   "source": [
    "total, correct, fraction = display_ability(bel, X, Pwin, games_val)"
   ]
  },
  {
   "cell_type": "markdown",
   "metadata": {},
   "source": [
    "# 1. Evaluating the required games to accurately predict players' skills:\n",
    "Decreasing the amount of training data available and observing the performance. Modify the \"pKeep\" variable to use a different fraction of the training data. To see the effect of the training size on the accuracy, run the experiment for different values of pKeep and observe the changes in the prediction accuracy."
   ]
  },
  {
   "cell_type": "code",
   "execution_count": 8,
   "metadata": {
    "scrolled": true
   },
   "outputs": [
    {
     "name": "stdout",
     "output_type": "stream",
     "text": [
      "Loading validation data...\n",
      "Fraction of edges to consider:  1.0\n",
      "Try to keep nEdge_val opponents per player 3\n",
      "Keep at most nKeep_val games per opponent pairs 5\n",
      "\n",
      "Fraction of edges to consider:  0.1\n",
      "Try to keep nEdge_val opponents per player 3\n",
      "Keep at most nKeep_val games per opponent pairs 5\n",
      "\n",
      "Iter 1: 140.34025656626756\n",
      "Iter 2: -1732.0898707800927\n",
      "Iter 3: -1890.910018534554\n",
      "Iter 4: -1982.9655429992185\n",
      "Iter 5: -2011.5236119991498\n",
      "Iter 6: -2024.4747592132496\n",
      "Iter 7: -2029.1259866125542\n",
      "Iter 8: -2030.962063739257\n",
      "Iter 9: -2031.6486876992747\n",
      "Iter 10: -2031.9152050481373\n",
      "\n",
      "Total games played: 4696\n",
      "Correct estimation: 3754\n",
      "Wrong   estimation: 942\n",
      "Fraction          : 79.94037478705282%\n",
      "\n",
      "Fraction of edges to consider:  0.25\n",
      "Try to keep nEdge_val opponents per player 3\n",
      "Keep at most nKeep_val games per opponent pairs 5\n",
      "\n",
      "Iter 1: 1149.2121472598046\n",
      "Iter 2: -2009.0128550836484\n",
      "Iter 3: -1759.0608354129304\n",
      "Iter 4: -1980.9605207554832\n",
      "Iter 5: -2009.598722272472\n",
      "Iter 6: -2036.2753755669644\n",
      "Iter 7: -2042.332390160258\n",
      "Iter 8: -2045.186785415516\n",
      "Iter 9: -2045.9863398018879\n",
      "Iter 10: -2046.3041527765404\n",
      "\n",
      "Total games played: 4696\n",
      "Correct estimation: 3843\n",
      "Wrong   estimation: 853\n",
      "Fraction          : 81.83560477001703%\n",
      "\n",
      "Fraction of edges to consider:  0.5\n",
      "Try to keep nEdge_val opponents per player 3\n",
      "Keep at most nKeep_val games per opponent pairs 5\n",
      "\n",
      "Iter 1: 1829.9593520038136\n",
      "Iter 2: -2408.202570024546\n",
      "Iter 3: -1755.9899764547022\n",
      "Iter 4: -2136.730663413036\n",
      "Iter 5: -2150.0788514928336\n",
      "Iter 6: -2182.9049188701047\n",
      "Iter 7: -2187.829685530835\n",
      "Iter 8: -2190.679992580964\n",
      "Iter 9: -2191.218675165901\n",
      "Iter 10: -2191.483526815401\n",
      "\n",
      "Total games played: 4696\n",
      "Correct estimation: 3833\n",
      "Wrong   estimation: 863\n",
      "Fraction          : 81.62265758091993%\n",
      "\n",
      "Fraction of edges to consider:  0.75\n",
      "Try to keep nEdge_val opponents per player 3\n",
      "Keep at most nKeep_val games per opponent pairs 5\n",
      "\n",
      "Iter 1: 2193.0332728965927\n",
      "Iter 2: -2523.152605172933\n",
      "Iter 3: -1787.2714074164371\n",
      "Iter 4: -2266.1948797254067\n",
      "Iter 5: -2242.056777512764\n",
      "Iter 6: -2263.9113633851653\n",
      "Iter 7: -2265.0511626220627\n",
      "Iter 8: -2266.7604581395817\n",
      "Iter 9: -2266.9399849465262\n",
      "Iter 10: -2267.0756465636678\n",
      "\n",
      "Total games played: 4696\n",
      "Correct estimation: 3861\n",
      "Wrong   estimation: 835\n",
      "Fraction          : 82.21890971039181%\n",
      "\n",
      "Fraction of edges to consider:  1.0\n",
      "Try to keep nEdge_val opponents per player 3\n",
      "Keep at most nKeep_val games per opponent pairs 5\n",
      "\n",
      "Iter 1: 2289.495483319534\n",
      "Iter 2: -2671.108701234556\n",
      "Iter 3: -1832.8831174606883\n",
      "Iter 4: -2321.6230334002807\n",
      "Iter 5: -2330.660615409309\n",
      "Iter 6: -2348.6347009839596\n",
      "Iter 7: -2349.1627906907934\n",
      "Iter 8: -2350.044989106557\n",
      "Iter 9: -2350.1572392610196\n",
      "Iter 10: -2350.2255290592575\n",
      "\n",
      "Total games played: 4696\n",
      "Correct estimation: 3886\n",
      "Wrong   estimation: 810\n",
      "Fraction          : 82.75127768313459%\n",
      "\n"
     ]
    },
    {
     "data": {
      "image/png": "[encoded data removed]",
      "text/plain": [
       "<Figure size 640x480 with 1 Axes>"
      ]
     },
     "metadata": {},
     "output_type": "display_data"
    }
   ],
   "source": [
    "pKeep_values = [0.1, 0.25, 0.5, 0.75, 1.0]\n",
    "accuracy_results = []\n",
    "\n",
    "print(\"Loading validation data...\")\n",
    "playername_val, nplayers_val, nplays_val, nwins_val = load_data('train.csv', pKeep = 1.0, nEdge = 3, nKeep = 5)\n",
    "games_val = get_games(nplayers_val, nplays_val, nwins_val)\n",
    "\n",
    "for pKeep in pKeep_values:\n",
    "    playername, nplayers, nplays, nwins = load_data('valid.csv', pKeep, nEdge = 3, nKeep = 5)\n",
    "    games = get_games(nplayers, nplays, nwins)\n",
    "    factors, X, Pwin = get_factors(games, nplayers)\n",
    "\n",
    "    model = gm.GraphModel(factors)\n",
    "    model.makeMinimal()  # merge any duplicate factors (e.g., repeated games)\n",
    "    bel, model = model_inference(model)\n",
    "\n",
    "    nlevels = 10   # let's say 10 discrete skill levels\n",
    "    scale = .3     # this scales how skill difference translates to win probability\n",
    "    # Ranking players by predicted skill\n",
    "    mean_skill_estimates = [ bel[i].table.dot(np.arange(nlevels)) for i in range(nplayers)]\n",
    "\n",
    "    total, correct, fraction = display_ability(bel, X, Pwin, games_val)\n",
    "    accuracy_results.append(fraction)\n",
    "\n",
    "plt.plot(pKeep_values, accuracy_results)\n",
    "plt.xlabel('Fraction of Training Data Used')\n",
    "plt.ylabel('Prediction Accuracy')\n",
    "plt.show()"
   ]
  },
  {
   "cell_type": "markdown",
   "metadata": {},
   "source": [
    "# 2. Evaluating how quickly we can determine a new player's skill:\n",
    "Add a new player's games gradually into the dataset and observe how their skill estimation accuracy changes. Add a few of the new player's games and re-run the inference, then add a few more games and re-run the inference again, and so on. Monitor how quickly the skill estimation converges."
   ]
  },
  {
   "cell_type": "code",
   "execution_count": 12,
   "metadata": {},
   "outputs": [
    {
     "name": "stdout",
     "output_type": "stream",
     "text": [
      "Fraction of edges to consider:  1.0\n",
      "Try to keep nEdge_val opponents per player 3\n",
      "Keep at most nKeep_val games per opponent pairs 5\n",
      "\n",
      "Excluding the games of player: 880\n",
      "\n",
      "Iter 1: 2287.5066304831535\n",
      "Iter 2: -2667.743474260148\n",
      "Iter 3: -1831.8300841407336\n",
      "Iter 4: -2318.9069936148076\n",
      "Iter 5: -2328.2892087182595\n",
      "Iter 6: -2346.1886581704616\n",
      "Iter 7: -2346.7268706003147\n",
      "Iter 8: -2347.6033976394215\n",
      "Iter 9: -2347.7157081507676\n",
      "Iter 10: -2347.7837523647368\n",
      "\n",
      "Current skill level: 3.8642453937011934\n",
      "\n",
      "Iter 1: 2288.1112890852146\n",
      "Iter 2: -2668.443180824916\n",
      "Iter 3: -1831.761983532215\n",
      "Iter 4: -2319.202961655366\n",
      "Iter 5: -2328.6091595460985\n",
      "Iter 6: -2346.4719701383556\n",
      "Iter 7: -2347.0161037497505\n",
      "Iter 8: -2347.8905416787934\n",
      "Iter 9: -2348.003147672778\n",
      "Iter 10: -2348.0709856196595\n",
      "\n",
      "Current skill level: 3.337345827493821\n",
      "\n",
      "Iter 1: 2290.5817844326875\n",
      "Iter 2: -2669.2619089704567\n",
      "Iter 3: -1831.7956164510674\n",
      "Iter 4: -2319.543406021586\n",
      "Iter 5: -2328.7904305287725\n",
      "Iter 6: -2346.6909015785363\n",
      "Iter 7: -2347.226619987333\n",
      "Iter 8: -2348.1038881991863\n",
      "Iter 9: -2348.216147479758\n",
      "Iter 10: -2348.28415187355\n",
      "\n",
      "Current skill level: 2.9507034862928627\n",
      "\n",
      "Iter 1: 2291.000145085134\n",
      "Iter 2: -2669.45711161001\n",
      "Iter 3: -1832.1021628881658\n",
      "Iter 4: -2319.81839043951\n",
      "Iter 5: -2328.9829006406667\n",
      "Iter 6: -2346.884728124478\n",
      "Iter 7: -2347.4157958869678\n",
      "Iter 8: -2348.293527687284\n",
      "Iter 9: -2348.4055344075414\n",
      "Iter 10: -2348.4735458189275\n",
      "\n",
      "Current skill level: 2.634476487518116\n",
      "\n",
      "Iter 1: 2289.495483319534\n",
      "Iter 2: -2671.108701234556\n",
      "Iter 3: -1832.8831174606896\n",
      "Iter 4: -2321.623033400279\n",
      "Iter 5: -2330.66061540931\n",
      "Iter 6: -2348.63470098396\n",
      "Iter 7: -2349.162790690793\n",
      "Iter 8: -2350.0449891065573\n",
      "Iter 9: -2350.1572392610183\n",
      "Iter 10: -2350.2255290592575\n",
      "\n",
      "Current skill level: 3.979850164357308\n",
      "\n"
     ]
    }
   ],
   "source": [
    "import random\n",
    "\n",
    "playername, nplayers, nplays, nwins = load_data('train.csv', pKeep = 1.0, nEdge = 3, nKeep = 5)\n",
    "games = get_games(nplayers, nplays, nwins)\n",
    "\n",
    "playerOut = random.randint(2, nplayers-1)  # Choose any player to leave out\n",
    "print(\"Excluding the games of player:\", playerOut)\n",
    "print(\"\")\n",
    "games_without_pOut = [game for game in games if (playerOut not in game)]\n",
    "\n",
    "games_with_pOut = [game for game in games if (playerOut in game)]\n",
    "\n",
    "mean_skill_estimates_new_player = []\n",
    "for i in range(1, len(games_with_pOut) + 1):\n",
    "    games_subset = games_with_pOut[:i]\n",
    "    combined_games = games_without_pOut + games_subset\n",
    "    \n",
    "    factors, X, Pwin = get_factors(combined_games, nplayers)\n",
    "\n",
    "    model = gm.GraphModel(factors)\n",
    "    model.makeMinimal()  # merge any duplicate factors (e.g., repeated games)\n",
    "    bel, model = model_inference(model)\n",
    "    \n",
    "    nlevels = 10   # let's say 10 discrete skill levels\n",
    "    scale = .3     # this scales how skill difference translates to win probability\n",
    "    # Ranking players by predicted skill\n",
    "    mean_skill_estimates = [ bel[i].table.dot(np.arange(nlevels)) for i in range(nplayers)]\n",
    "    current_skill = mean_skill_estimates[playerOut]\n",
    "    mean_skill_estimates_new_player.append(current_skill)\n",
    "    print(\"Current skill level:\", current_skill)\n",
    "    print(\"\")"
   ]
  },
  {
   "cell_type": "code",
   "execution_count": 13,
   "metadata": {},
   "outputs": [
    {
     "data": {
      "image/png": "[encoded data removed]",
      "text/plain": [
       "<Figure size 640x480 with 1 Axes>"
      ]
     },
     "metadata": {},
     "output_type": "display_data"
    }
   ],
   "source": [
    "plt.plot(range(1, len(games_with_pOut)+1), mean_skill_estimates_new_player)\n",
    "plt.xlabel('Number of Player{} Games'.format(playerOut))\n",
    "plt.ylabel('New Player Skill Level')\n",
    "plt.show()"
   ]
  }
 ],
 "metadata": {
  "kernelspec": {
   "display_name": "Python 3 (ipykernel)",
   "language": "python",
   "name": "python3"
  },
  "language_info": {
   "codemirror_mode": {
    "name": "ipython",
    "version": 3
   },
   "file_extension": ".py",
   "mimetype": "text/x-python",
   "name": "python",
   "nbconvert_exporter": "python",
   "pygments_lexer": "ipython3",
   "version": "3.10.10"
  }
 },
 "nbformat": 4,
 "nbformat_minor": 2
}
